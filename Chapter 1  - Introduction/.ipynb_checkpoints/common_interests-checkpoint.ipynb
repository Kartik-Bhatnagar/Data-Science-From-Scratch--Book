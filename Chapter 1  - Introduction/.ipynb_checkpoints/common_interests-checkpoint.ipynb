{
 "cells": [
  {
   "cell_type": "code",
   "execution_count": 22,
   "id": "f6ddc383",
   "metadata": {},
   "outputs": [],
   "source": [
    "users = [\n",
    "{ \"id\": 0, \"name\": \"Hero\" },\n",
    "{ \"id\": 1, \"name\": \"Dunn\" },\n",
    "{ \"id\": 2, \"name\": \"Sue\" },\n",
    "{ \"id\": 3, \"name\": \"Chi\" },\n",
    "{ \"id\": 4, \"name\": \"Thor\" },\n",
    "{ \"id\": 5, \"name\": \"Clive\" },\n",
    "{ \"id\": 6, \"name\": \"Hicks\" },\n",
    "{ \"id\": 7, \"name\": \"Devin\" },\n",
    "{ \"id\": 8, \"name\": \"Kate\" },\n",
    "{ \"id\": 9, \"name\": \"Klein\" }\n",
    "]"
   ]
  },
  {
   "cell_type": "code",
   "execution_count": 1,
   "id": "bfe533ba",
   "metadata": {},
   "outputs": [],
   "source": [
    "interests = [\n",
    "(0, \"Hadoop\"), (0, \"Big Data\"), (0, \"HBase\"), (0, \"Java\"),\n",
    "(0, \"Spark\"), (0, \"Storm\"), (0, \"Cassandra\"),\n",
    "(1, \"NoSQL\"), (1, \"MongoDB\"), (1, \"Cassandra\"), (1, \"HBase\"),\n",
    "(1, \"Postgres\"), (2, \"Python\"), (2, \"scikit-learn\"), (2, \"scipy\"),\n",
    "(2, \"numpy\"), (2, \"statsmodels\"), (2, \"pandas\"), (3, \"R\"), (3,\n",
    "\"Python\"),\n",
    "(3, \"statistics\"), (3, \"regression\"), (3, \"probability\"),\n",
    "(4, \"machine learning\"), (4, \"regression\"), (4, \"decision trees\"),\n",
    "(4, \"libsvm\"), (5, \"Python\"), (5, \"R\"), (5, \"Java\"), (5, \"C++\"),\n",
    "(5, \"Haskell\"), (5, \"programming languages\"), (6, \"statistics\"),\n",
    "(6, \"probability\"), (6, \"mathematics\"), (6, \"theory\"),\n",
    "(7, \"machine learning\"), (7, \"scikit-learn\"), (7, \"Mahout\"),\n",
    "(7, \"neural networks\"), (8, \"neural networks\"), (8, \"deep learning\"),\n",
    "(8, \"Big Data\"), (8, \"artificial intelligence\"), (9, \"Hadoop\"),\n",
    "(9, \"Java\"), (9, \"MapReduce\"), (9, \"Big Data\")\n",
    "]"
   ]
  },
  {
   "cell_type": "code",
   "execution_count": null,
   "id": "ceec8314",
   "metadata": {},
   "outputs": [],
   "source": []
  },
  {
   "cell_type": "code",
   "execution_count": 8,
   "id": "1288baf9",
   "metadata": {},
   "outputs": [],
   "source": [
    "def similar_target_interest(t_interest):\n",
    "    \"\"\"Find the ids of all users who like the target interest.\"\"\"\n",
    "    return([interest[0] for interest in interests if interest[1] == t_interest])"
   ]
  },
  {
   "cell_type": "code",
   "execution_count": 11,
   "id": "64498704",
   "metadata": {},
   "outputs": [
    {
     "data": {
      "text/plain": [
       "[0, 8, 9]"
      ]
     },
     "execution_count": 11,
     "metadata": {},
     "output_type": "execute_result"
    }
   ],
   "source": [
    "similar_target_interest(\"Big Data\")"
   ]
  },
  {
   "cell_type": "markdown",
   "id": "096b1e49",
   "metadata": {},
   "source": [
    "#### Building an index from Interests to Users "
   ]
  },
  {
   "cell_type": "code",
   "execution_count": 16,
   "id": "e6e57264",
   "metadata": {},
   "outputs": [],
   "source": [
    "from collections import defaultdict\n",
    "user_ids_by_interest = defaultdict(list)\n",
    "for user_id, interest in interests:\n",
    "    user_ids_by_interest[interest].append(user_id)"
   ]
  },
  {
   "cell_type": "code",
   "execution_count": 18,
   "id": "686346f0",
   "metadata": {},
   "outputs": [
    {
     "name": "stdout",
     "output_type": "stream",
     "text": [
      "defaultdict(<class 'list'>, {'Hadoop': [0, 9], 'Big Data': [0, 8, 9], 'HBase': [0, 1], 'Java': [0, 5, 9], 'Spark': [0], 'Storm': [0], 'Cassandra': [0, 1], 'NoSQL': [1], 'MongoDB': [1], 'Postgres': [1], 'Python': [2, 3, 5], 'scikit-learn': [2, 7], 'scipy': [2], 'numpy': [2], 'statsmodels': [2], 'pandas': [2], 'R': [3, 5], 'statistics': [3, 6], 'regression': [3, 4], 'probability': [3, 6], 'machine learning': [4, 7], 'decision trees': [4], 'libsvm': [4], 'C++': [5], 'Haskell': [5], 'programming languages': [5], 'mathematics': [6], 'theory': [6], 'Mahout': [7], 'neural networks': [7, 8], 'deep learning': [8], 'artificial intelligence': [8], 'MapReduce': [9]})\n"
     ]
    }
   ],
   "source": [
    "print(user_ids_by_interest)"
   ]
  },
  {
   "cell_type": "markdown",
   "id": "2a936b93",
   "metadata": {},
   "source": [
    "#### Building an index from users to interest"
   ]
  },
  {
   "cell_type": "code",
   "execution_count": 20,
   "id": "7b7602ba",
   "metadata": {},
   "outputs": [],
   "source": [
    "interests_by_user_id = {}\n",
    "for user_id, interest in interests:\n",
    "    if user_id in interests_by_user_id:\n",
    "        interests_by_user_id[user_id].append(interest)\n",
    "    else:\n",
    "        interests_by_user_id[user_id] = [interest]"
   ]
  },
  {
   "cell_type": "code",
   "execution_count": 21,
   "id": "35ddd21b",
   "metadata": {},
   "outputs": [
    {
     "data": {
      "text/plain": [
       "{0: ['Hadoop', 'Big Data', 'HBase', 'Java', 'Spark', 'Storm', 'Cassandra'],\n",
       " 1: ['NoSQL', 'MongoDB', 'Cassandra', 'HBase', 'Postgres'],\n",
       " 2: ['Python', 'scikit-learn', 'scipy', 'numpy', 'statsmodels', 'pandas'],\n",
       " 3: ['R', 'Python', 'statistics', 'regression', 'probability'],\n",
       " 4: ['machine learning', 'regression', 'decision trees', 'libsvm'],\n",
       " 5: ['Python', 'R', 'Java', 'C++', 'Haskell', 'programming languages'],\n",
       " 6: ['statistics', 'probability', 'mathematics', 'theory'],\n",
       " 7: ['machine learning', 'scikit-learn', 'Mahout', 'neural networks'],\n",
       " 8: ['neural networks',\n",
       "  'deep learning',\n",
       "  'Big Data',\n",
       "  'artificial intelligence'],\n",
       " 9: ['Hadoop', 'Java', 'MapReduce', 'Big Data']}"
      ]
     },
     "execution_count": 21,
     "metadata": {},
     "output_type": "execute_result"
    }
   ],
   "source": [
    "interests_by_user_id"
   ]
  },
  {
   "cell_type": "markdown",
   "id": "99606e7c",
   "metadata": {},
   "source": [
    "#### Now it’s easy to find who has the most interests in common with a given user:\n",
    "\n",
    "*Iterate over the user’s interests.*\n",
    "     \n",
    "*For each interest, iterate over the other users with that interest.*\n",
    "\n",
    "*Keep count of how many times we see each other user.*"
   ]
  },
  {
   "cell_type": "code",
   "execution_count": 34,
   "id": "c2e6a14a",
   "metadata": {},
   "outputs": [],
   "source": [
    "def most_common_intersts_with(user): #user = {id:_ , name:_}\n",
    "    return(Counter(user_id \n",
    "                   for interest in interests_by_user_id[user[\"id\"]] \n",
    "                       for user_id in user_ids_by_interest[interest]\n",
    "                          if user_id != user[\"id\"]) )"
   ]
  },
  {
   "cell_type": "code",
   "execution_count": 47,
   "id": "ba5e2254",
   "metadata": {},
   "outputs": [],
   "source": [
    "def user_name_from_id(id):\n",
    "    for user in users:\n",
    "        if user[\"id\"] == id:\n",
    "            return(user[\"name\"])\n",
    "    else:\n",
    "        return(\"-\")"
   ]
  },
  {
   "cell_type": "code",
   "execution_count": 62,
   "id": "b2f68244",
   "metadata": {},
   "outputs": [
    {
     "name": "stdout",
     "output_type": "stream",
     "text": [
      "User Id: 0 Hero : \n",
      "\n",
      " has 3 common interst with Klein  userId :(9)\n",
      "\n",
      " has 1 common interst with Kate  userId :(8)\n",
      "\n",
      " has 2 common interst with Dunn  userId :(1)\n",
      "\n",
      " has 1 common interst with Clive  userId :(5)\n",
      "________________________________________ \n",
      "\n",
      "User Id: 1 Dunn : \n",
      "\n",
      " has 2 common interst with Hero  userId :(0)\n",
      "________________________________________ \n",
      "\n",
      "User Id: 2 Sue : \n",
      "\n",
      " has 1 common interst with Chi  userId :(3)\n",
      "\n",
      " has 1 common interst with Clive  userId :(5)\n",
      "\n",
      " has 1 common interst with Devin  userId :(7)\n",
      "________________________________________ \n",
      "\n",
      "User Id: 3 Chi : \n",
      "\n",
      " has 2 common interst with Clive  userId :(5)\n",
      "\n",
      " has 1 common interst with Sue  userId :(2)\n",
      "\n",
      " has 2 common interst with Hicks  userId :(6)\n",
      "\n",
      " has 1 common interst with Thor  userId :(4)\n",
      "________________________________________ \n",
      "\n",
      "User Id: 4 Thor : \n",
      "\n",
      " has 1 common interst with Devin  userId :(7)\n",
      "\n",
      " has 1 common interst with Chi  userId :(3)\n",
      "________________________________________ \n",
      "\n",
      "User Id: 5 Clive : \n",
      "\n",
      " has 1 common interst with Sue  userId :(2)\n",
      "\n",
      " has 2 common interst with Chi  userId :(3)\n",
      "\n",
      " has 1 common interst with Hero  userId :(0)\n",
      "\n",
      " has 1 common interst with Klein  userId :(9)\n",
      "________________________________________ \n",
      "\n",
      "User Id: 6 Hicks : \n",
      "\n",
      " has 2 common interst with Chi  userId :(3)\n",
      "________________________________________ \n",
      "\n",
      "User Id: 7 Devin : \n",
      "\n",
      " has 1 common interst with Thor  userId :(4)\n",
      "\n",
      " has 1 common interst with Sue  userId :(2)\n",
      "\n",
      " has 1 common interst with Kate  userId :(8)\n",
      "________________________________________ \n",
      "\n",
      "User Id: 8 Kate : \n",
      "\n",
      " has 1 common interst with Devin  userId :(7)\n",
      "\n",
      " has 1 common interst with Hero  userId :(0)\n",
      "\n",
      " has 1 common interst with Klein  userId :(9)\n",
      "________________________________________ \n",
      "\n",
      "User Id: 9 Klein : \n",
      "\n",
      " has 3 common interst with Hero  userId :(0)\n",
      "\n",
      " has 1 common interst with Clive  userId :(5)\n",
      "\n",
      " has 1 common interst with Kate  userId :(8)\n",
      "________________________________________ \n",
      "\n"
     ]
    }
   ],
   "source": [
    "for user in users:\n",
    "    #print(most_common_intersts_with(user))\n",
    "    print(f\"User Id: {user['id']} {user['name']} : \")\n",
    "    common_interests_with = most_common_intersts_with(user)\n",
    "    for common_user_id in common_interests_with:\n",
    "        print(f\"\\n has {common_interests_with[common_user_id]} common interst with {user_name_from_id(common_user_id)}  userId :({common_user_id})\")\n",
    "    print(\"____\"*10,\"\\n\")"
   ]
  },
  {
   "cell_type": "code",
   "execution_count": 40,
   "id": "4558b989",
   "metadata": {},
   "outputs": [],
   "source": [
    "common_interests_with = most_common_intersts_with(users[0])"
   ]
  },
  {
   "cell_type": "code",
   "execution_count": 41,
   "id": "83c043b3",
   "metadata": {},
   "outputs": [
    {
     "data": {
      "text/plain": [
       "Counter({9: 3, 8: 1, 1: 2, 5: 1})"
      ]
     },
     "execution_count": 41,
     "metadata": {},
     "output_type": "execute_result"
    }
   ],
   "source": [
    "common_interests_with"
   ]
  },
  {
   "cell_type": "code",
   "execution_count": 44,
   "id": "84c71765",
   "metadata": {},
   "outputs": [
    {
     "name": "stdout",
     "output_type": "stream",
     "text": [
      "9\n",
      "8\n",
      "1\n",
      "5\n"
     ]
    }
   ],
   "source": [
    "for i in common_interests:\n",
    "    print(i)"
   ]
  },
  {
   "cell_type": "code",
   "execution_count": 50,
   "id": "461dcb43",
   "metadata": {},
   "outputs": [
    {
     "name": "stdout",
     "output_type": "stream",
     "text": [
      "1 is\n"
     ]
    }
   ],
   "source": [
    "print(f\"{1} is\")"
   ]
  },
  {
   "cell_type": "code",
   "execution_count": null,
   "id": "cd8f9565",
   "metadata": {},
   "outputs": [],
   "source": []
  }
 ],
 "metadata": {
  "kernelspec": {
   "display_name": "Python 3 (ipykernel)",
   "language": "python",
   "name": "python3"
  },
  "language_info": {
   "codemirror_mode": {
    "name": "ipython",
    "version": 3
   },
   "file_extension": ".py",
   "mimetype": "text/x-python",
   "name": "python",
   "nbconvert_exporter": "python",
   "pygments_lexer": "ipython3",
   "version": "3.9.13"
  }
 },
 "nbformat": 4,
 "nbformat_minor": 5
}
