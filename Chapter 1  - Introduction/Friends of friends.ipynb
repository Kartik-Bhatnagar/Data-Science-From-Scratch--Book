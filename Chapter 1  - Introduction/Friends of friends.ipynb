{
 "cells": [
  {
   "cell_type": "code",
   "execution_count": 1,
   "id": "62e288a6",
   "metadata": {},
   "outputs": [],
   "source": [
    "users =[\n",
    "{ \"id\": 0, \"name\": \"Hero\" },\n",
    "{ \"id\": 1, \"name\": \"Dunn\" },\n",
    "{ \"id\": 2, \"name\": \"Sue\" },\n",
    "{ \"id\": 3, \"name\": \"Chi\" },\n",
    "{ \"id\": 4, \"name\": \"Thor\" },\n",
    "{ \"id\": 5, \"name\": \"Clive\" },\n",
    "{ \"id\": 6, \"name\": \"Hicks\" },\n",
    "{ \"id\": 7, \"name\": \"Devin\" },\n",
    "{ \"id\": 8, \"name\": \"Kate\" },\n",
    "{ \"id\": 9, \"name\": \"Klein\" }\n",
    "]\n",
    "\n",
    "friendship_pairs = [(0, 1), (0, 2), (1, 2), (1, 3), (2, 3), (3, 4),\n",
    "(4, 5), (5, 6), (5, 7), (6, 8), (7, 8), (8, 9)]"
   ]
  },
  {
   "cell_type": "code",
   "execution_count": 2,
   "id": "0377b5e6",
   "metadata": {},
   "outputs": [
    {
     "name": "stdout",
     "output_type": "stream",
     "text": [
      "{0: [], 1: [], 2: [], 3: [], 4: [], 5: [], 6: [], 7: [], 8: [], 9: []}\n",
      "And loop over the friendship pairs to populate it:\n",
      "{0: [1, 2], 1: [0, 2, 3], 2: [0, 1, 3], 3: [1, 2, 4], 4: [3, 5], 5: [4, 6, 7], 6: [5, 8], 7: [5, 8], 8: [6, 7, 9], 9: [8]}\n"
     ]
    }
   ],
   "source": [
    "#initilize the friendship dictionary with the key as user id and list as friends\n",
    "\n",
    "friendships = {user[\"id\"]:[] for user in users}\n",
    "print(friendships)\n",
    "print(\"And loop over the friendship pairs to populate it:\")\n",
    "\n",
    "for i,j in friendship_pairs:\n",
    "    friendships[i].append(j)\n",
    "    friendships[j].append(i)\n",
    "    \n",
    "print(friendships)   "
   ]
  },
  {
   "cell_type": "code",
   "execution_count": 3,
   "id": "25b68b60",
   "metadata": {},
   "outputs": [
    {
     "name": "stdout",
     "output_type": "stream",
     "text": [
      "24\n"
     ]
    }
   ],
   "source": [
    "def number_of_friends(user):\n",
    "    \"\"\"How many friends does _user_ have?\"\"\"\n",
    "    user_id = user[\"id\"]\n",
    "    friend_ids = friendships[user_id]\n",
    "    return len(friend_ids)\n",
    "total_connections = sum(number_of_friends(user) for user in users)\n",
    "print(total_connections)"
   ]
  },
  {
   "cell_type": "code",
   "execution_count": 5,
   "id": "d66da527",
   "metadata": {},
   "outputs": [
    {
     "name": "stdout",
     "output_type": "stream",
     "text": [
      "[(0, 2), (1, 3), (2, 3), (3, 3), (4, 2), (5, 3), (6, 2), (7, 2), (8, 3), (9, 1)]\n",
      "[(1, 3), (2, 3), (3, 3), (5, 3), (8, 3), (0, 2), (4, 2), (6, 2), (7, 2), (9, 1)]\n"
     ]
    }
   ],
   "source": [
    "num_friends_by_id = [(user[\"id\"], number_of_friends(user)) for user in users]\n",
    "print(num_friends_by_id)\n",
    "\n",
    "num_friends_by_id.sort( # Sort the list\n",
    "    key=lambda id_and_friends: id_and_friends[1], # by num_friends    \n",
    "    reverse=True) # largest to smallest\n",
    "print(num_friends_by_id)"
   ]
  },
  {
   "cell_type": "code",
   "execution_count": 34,
   "id": "9447ea4e",
   "metadata": {},
   "outputs": [],
   "source": [
    "def fof(user_id): #friends of friends\n",
    "    \n",
    "    return(list(set([fof for user_friends in friendships[user_id] for fof in friendships[user_friends]])))\n",
    "    #return([fof for user_friends in friendships[user_id] for fof in friendships[user_friends]])"
   ]
  },
  {
   "cell_type": "code",
   "execution_count": 35,
   "id": "17e5c12b",
   "metadata": {},
   "outputs": [
    {
     "name": "stdout",
     "output_type": "stream",
     "text": [
      "Friends of friends of user 0 are : [0, 1, 2, 3]\n",
      "Friends of friends of user 1 are : [0, 1, 2, 3, 4]\n",
      "Friends of friends of user 2 are : [0, 1, 2, 3, 4]\n",
      "Friends of friends of user 3 are : [0, 1, 2, 3, 5]\n",
      "Friends of friends of user 4 are : [1, 2, 4, 6, 7]\n",
      "Friends of friends of user 5 are : [8, 3, 5]\n",
      "Friends of friends of user 6 are : [9, 4, 6, 7]\n",
      "Friends of friends of user 7 are : [9, 4, 6, 7]\n",
      "Friends of friends of user 8 are : [8, 5]\n",
      "Friends of friends of user 9 are : [9, 6, 7]\n"
     ]
    }
   ],
   "source": [
    "for user in users:\n",
    "    print(f\"Friends of friends of user {user['id']} are : {fof(user['id'])}\")"
   ]
  },
  {
   "cell_type": "markdown",
   "id": "55fec13c",
   "metadata": {},
   "source": [
    "##### **exclusive fof** just friends of friends contains just only friends of friends in the list. List will not include their alreardy friends or their id in the list"
   ]
  },
  {
   "cell_type": "code",
   "execution_count": 55,
   "id": "b9c6f254",
   "metadata": {},
   "outputs": [],
   "source": [
    "from collections import Counter"
   ]
  },
  {
   "cell_type": "code",
   "execution_count": 61,
   "id": "6ebb6190",
   "metadata": {},
   "outputs": [],
   "source": [
    "def exc_fof(user_id):\n",
    "    return(list(set(\n",
    "                    [fof for user_friends in friendships[user_id] \n",
    "                     for fof in friendships[user_friends] \n",
    "                     if fof not in friendships[user_id] and fof != user_id   ] )))"
   ]
  },
  {
   "cell_type": "code",
   "execution_count": 60,
   "id": "2a392f7f",
   "metadata": {},
   "outputs": [],
   "source": [
    "def exc_fof_counter(user_id):\n",
    "    return Counter(\n",
    "                    [fof for user_friends in friendships[user_id] \n",
    "                     for fof in friendships[user_friends] \n",
    "                     if fof not in friendships[user_id] and fof != user_id   ] )\n",
    "    "
   ]
  },
  {
   "cell_type": "code",
   "execution_count": 64,
   "id": "73af1fa1",
   "metadata": {},
   "outputs": [
    {
     "name": "stdout",
     "output_type": "stream",
     "text": [
      "Friends of friends of user 0 are : [3] \t Counter({3: 2})\n",
      "Friends of friends of user 1 are : [4] \t Counter({4: 1})\n",
      "Friends of friends of user 2 are : [4] \t Counter({4: 1})\n",
      "Friends of friends of user 3 are : [0, 5] \t Counter({0: 2, 5: 1})\n",
      "Friends of friends of user 4 are : [1, 2, 6, 7] \t Counter({1: 1, 2: 1, 6: 1, 7: 1})\n",
      "Friends of friends of user 5 are : [8, 3] \t Counter({8: 2, 3: 1})\n",
      "Friends of friends of user 6 are : [9, 4, 7] \t Counter({7: 2, 4: 1, 9: 1})\n",
      "Friends of friends of user 7 are : [9, 4, 6] \t Counter({6: 2, 4: 1, 9: 1})\n",
      "Friends of friends of user 8 are : [5] \t Counter({5: 2})\n",
      "Friends of friends of user 9 are : [6, 7] \t Counter({6: 1, 7: 1})\n"
     ]
    }
   ],
   "source": [
    "for user in users:\n",
    "    print(f\"Friends of friends of user {user['id']} are : {exc_fof(user['id'])} \\t {exc_fof_counter(user['id'])}\")"
   ]
  },
  {
   "cell_type": "code",
   "execution_count": null,
   "id": "6fd92099",
   "metadata": {},
   "outputs": [],
   "source": []
  }
 ],
 "metadata": {
  "kernelspec": {
   "display_name": "Python 3 (ipykernel)",
   "language": "python",
   "name": "python3"
  },
  "language_info": {
   "codemirror_mode": {
    "name": "ipython",
    "version": 3
   },
   "file_extension": ".py",
   "mimetype": "text/x-python",
   "name": "python",
   "nbconvert_exporter": "python",
   "pygments_lexer": "ipython3",
   "version": "3.9.13"
  }
 },
 "nbformat": 4,
 "nbformat_minor": 5
}
