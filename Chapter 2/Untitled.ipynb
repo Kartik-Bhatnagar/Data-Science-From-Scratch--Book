{
 "cells": [
  {
   "cell_type": "code",
   "execution_count": 1,
   "id": "3aa489e0",
   "metadata": {},
   "outputs": [],
   "source": [
    "def natural_numbers():\n",
    "    i=1\n",
    "    while True:\n",
    "        yield i\n",
    "        i += 1"
   ]
  },
  {
   "cell_type": "code",
   "execution_count": 2,
   "id": "7cec0b3a",
   "metadata": {},
   "outputs": [],
   "source": [
    "# None of these computations *does* anything until we iterate\n",
    "data = natural_numbers()\n",
    "evens = (x for x in data if x % 2 == 0)\n",
    "even_squares = (x ** 2 for x in evens)\n",
    "even_squares_ending_in_six = (x for x in even_squares if x % 10 == 6)\n",
    "# and so on"
   ]
  },
  {
   "cell_type": "code",
   "execution_count": 3,
   "id": "ccc65a0b",
   "metadata": {},
   "outputs": [
    {
     "name": "stdout",
     "output_type": "stream",
     "text": [
      "2\n",
      "4\n",
      "6\n",
      "8\n",
      "10\n",
      "12\n",
      "14\n",
      "16\n",
      "18\n",
      "20\n"
     ]
    }
   ],
   "source": [
    "for _ in range(10):\n",
    "    print(next(evens))"
   ]
  },
  {
   "cell_type": "code",
   "execution_count": 4,
   "id": "890625ef",
   "metadata": {},
   "outputs": [],
   "source": [
    "def magic(*args,**kwargs):\n",
    "    print(args)\n",
    "    print(kwargs)"
   ]
  },
  {
   "cell_type": "code",
   "execution_count": 10,
   "id": "11454c80",
   "metadata": {},
   "outputs": [
    {
     "name": "stdout",
     "output_type": "stream",
     "text": [
      "(10, 20, 'hello', [10, 20, 30], {'India': 'New Delhi', 'France': 'Paris'})\n",
      "{'k1': 40, 'k2': 50, 'k3': 'world', 'k4': {'one': 1, 'two': 2}}\n"
     ]
    }
   ],
   "source": [
    "magic(10,20,\"hello\",[10,20,30],{'India':'New Delhi','France':'Paris'},k1=40,k2=50,k3=\"world\",k4 = {'one':1,'two':2})"
   ]
  },
  {
   "cell_type": "code",
   "execution_count": 14,
   "id": "f078b7b3",
   "metadata": {},
   "outputs": [
    {
     "name": "stdout",
     "output_type": "stream",
     "text": [
      "1\n",
      "2\n",
      "3\n"
     ]
    }
   ],
   "source": [
    "def other_way_magic(x, y, z):\n",
    "    print(x)\n",
    "    print(y)\n",
    "    print(z)\n",
    "    return x + y + z\n",
    "x_y_list = [1, 2]\n",
    "z_dict = {\"z\": 3}\n",
    "assert other_way_magic(*x_y_list, **z_dict) == 6, \"1 + 2 + 3 should be 6\""
   ]
  },
  {
   "cell_type": "code",
   "execution_count": 23,
   "id": "f40e9da9",
   "metadata": {},
   "outputs": [
    {
     "name": "stdout",
     "output_type": "stream",
     "text": [
      "1\n",
      "2\n",
      "1 2 3\n"
     ]
    }
   ],
   "source": [
    "def other_way_magic(x, y, z3,z1,z2):\n",
    "    print(x)\n",
    "    print(y)\n",
    "    print(z1,z2,z3)\n",
    "    return x + y + z3\n",
    "x_y_list = [1, 2]\n",
    "z_dict = {\"z3\": 3,'z2':2,'z1':1}\n",
    "assert other_way_magic(*x_y_list, **z_dict) == 6, \"1 + 2 + 3 should be 6\""
   ]
  },
  {
   "cell_type": "code",
   "execution_count": 33,
   "id": "452c8a14",
   "metadata": {},
   "outputs": [],
   "source": [
    "#important type of documnetation but on overule it won't throw an error\n",
    "#it will make our code more informative \n",
    "def add1(a: int, b: int = 30) -> int:\n",
    "    return a + b\n"
   ]
  },
  {
   "cell_type": "code",
   "execution_count": 28,
   "id": "156c0366",
   "metadata": {},
   "outputs": [
    {
     "data": {
      "text/plain": [
       "15"
      ]
     },
     "execution_count": 28,
     "metadata": {},
     "output_type": "execute_result"
    }
   ],
   "source": [
    "add1(10, 5) # you'd like this to be OK\n"
   ]
  },
  {
   "cell_type": "code",
   "execution_count": 29,
   "id": "7f7d64f5",
   "metadata": {},
   "outputs": [
    {
     "data": {
      "text/plain": [
       "'hi there'"
      ]
     },
     "execution_count": 29,
     "metadata": {},
     "output_type": "execute_result"
    }
   ],
   "source": [
    "add1(\"hi \", \"there\") # you'd like this to be not OK"
   ]
  },
  {
   "cell_type": "code",
   "execution_count": 34,
   "id": "aa1fac50",
   "metadata": {},
   "outputs": [
    {
     "data": {
      "text/plain": [
       "40"
      ]
     },
     "execution_count": 34,
     "metadata": {},
     "output_type": "execute_result"
    }
   ],
   "source": [
    "add1(10)"
   ]
  },
  {
   "cell_type": "code",
   "execution_count": 39,
   "id": "716d3f4c",
   "metadata": {},
   "outputs": [],
   "source": [
    "def total(xs: list[float]) -> float:\n",
    "    return sum(xs)"
   ]
  },
  {
   "cell_type": "code",
   "execution_count": 43,
   "id": "e660441c",
   "metadata": {},
   "outputs": [
    {
     "data": {
      "text/plain": [
       "20.950000000000003"
      ]
     },
     "execution_count": 43,
     "metadata": {},
     "output_type": "execute_result"
    }
   ],
   "source": [
    "total([3.4,8.9,8.65])"
   ]
  },
  {
   "cell_type": "code",
   "execution_count": null,
   "id": "6f154dcf",
   "metadata": {},
   "outputs": [],
   "source": []
  }
 ],
 "metadata": {
  "kernelspec": {
   "display_name": "Python 3 (ipykernel)",
   "language": "python",
   "name": "python3"
  },
  "language_info": {
   "codemirror_mode": {
    "name": "ipython",
    "version": 3
   },
   "file_extension": ".py",
   "mimetype": "text/x-python",
   "name": "python",
   "nbconvert_exporter": "python",
   "pygments_lexer": "ipython3",
   "version": "3.9.13"
  }
 },
 "nbformat": 4,
 "nbformat_minor": 5
}
